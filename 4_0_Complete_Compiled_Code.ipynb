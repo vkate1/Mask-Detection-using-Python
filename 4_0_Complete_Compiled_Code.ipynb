{
  "cells": [
    {
      "cell_type": "markdown",
      "metadata": {
        "id": "view-in-github",
        "colab_type": "text"
      },
      "source": [
        "<a href=\"https://colab.research.google.com/github/vkate1/Mask-Detection-using-Python/blob/main/4_0_Complete_Compiled_Code.ipynb\" target=\"_parent\"><img src=\"https://colab.research.google.com/assets/colab-badge.svg\" alt=\"Open In Colab\"/></a>"
      ]
    },
    {
      "cell_type": "markdown",
      "metadata": {
        "id": "iDSCtGLDwv7n"
      },
      "source": [
        "# Project Overview\n",
        "\n"
      ]
    },
    {
      "cell_type": "markdown",
      "metadata": {
        "id": "SRccF96gwv7w"
      },
      "source": [
        "# The Dataset\n",
        "\n",
        "The dataset consisted of 1376 images, 690 face images with masks and 686 without masks. The original dataset is prepared by [Prajna Bhandary](https://www.linkedin.com/in/prajna-bhandary-0b03a416a/) and available at [Github](https://github.com/prajnasb/observations/tree/master/experiements/data)\n",
        "\n"
      ]
    },
    {
      "cell_type": "markdown",
      "metadata": {
        "id": "Wj6IBfpXwv7x"
      },
      "source": [
        "# Data Preprocessing\n"
      ]
    },
    {
      "cell_type": "code",
      "source": [
        "from google.colab import drive\n",
        "drive.mount('/content/drive')"
      ],
      "metadata": {
        "colab": {
          "base_uri": "https://localhost:8080/"
        },
        "id": "vepPsL0VxW2B",
        "outputId": "f198a1e4-72f3-461f-e5e0-d9e155f39067"
      },
      "execution_count": null,
      "outputs": [
        {
          "output_type": "stream",
          "name": "stdout",
          "text": [
            "Mounted at /content/drive\n"
          ]
        }
      ]
    },
    {
      "cell_type": "code",
      "source": [
        "%cd /content/drive/MyDrive/Mask Detection"
      ],
      "metadata": {
        "colab": {
          "base_uri": "https://localhost:8080/"
        },
        "id": "AOlT-iKrxjuw",
        "outputId": "20499d0d-ad70-4486-fd1d-a37278f69eb6"
      },
      "execution_count": null,
      "outputs": [
        {
          "output_type": "stream",
          "name": "stdout",
          "text": [
            "/content/drive/MyDrive/Mask Detection\n"
          ]
        }
      ]
    },
    {
      "cell_type": "code",
      "execution_count": null,
      "metadata": {
        "colab": {
          "base_uri": "https://localhost:8080/"
        },
        "id": "8c6rwCR_wv7z",
        "outputId": "ef771c1e-4b90-427d-b9fa-0d2c338eb891"
      },
      "outputs": [
        {
          "output_type": "stream",
          "name": "stdout",
          "text": [
            "{'with_mask': 0, 'without_mask': 1}\n",
            "['with_mask', 'without_mask']\n",
            "[0, 1]\n"
          ]
        }
      ],
      "source": [
        "import cv2,os\n",
        "\n",
        "data_path='dataset'\n",
        "categories=os.listdir(data_path)\n",
        "labels=[i for i in range(len(categories))]\n",
        "\n",
        "label_dict=dict(zip(categories,labels))\n",
        "\n",
        "print(label_dict)\n",
        "print(categories)\n",
        "print(labels)"
      ]
    },
    {
      "cell_type": "code",
      "execution_count": null,
      "metadata": {
        "id": "VJ7noZFQwv73"
      },
      "outputs": [],
      "source": [
        "img_size=100\n",
        "data=[]\n",
        "target=[]\n",
        "\n",
        "\n",
        "for category in categories:\n",
        "    folder_path=os.path.join(data_path,category)\n",
        "    img_names=os.listdir(folder_path)\n",
        "        \n",
        "    for img_name in img_names:\n",
        "        img_path=os.path.join(folder_path,img_name)\n",
        "        img=cv2.imread(img_path)\n",
        "\n",
        "        try:\n",
        "            gray=cv2.cvtColor(img,cv2.COLOR_BGR2GRAY)           \n",
        "            #Coverting the image into gray scale\n",
        "            resized=cv2.resize(gray,(img_size,img_size))\n",
        "            #resizing the gray scale into 100x100, since we need a fixed common size for all the images in the dataset\n",
        "            data.append(resized)\n",
        "            target.append(label_dict[category])\n",
        "            #appending the image and the label(categorized) into the list (dataset)\n",
        "\n",
        "        except Exception as e:\n",
        "            print('Exception:',e)\n",
        "            #if any exception rasied, the exception will be printed here. And pass to the next image"
      ]
    },
    {
      "cell_type": "code",
      "execution_count": null,
      "metadata": {
        "id": "6omCcnaAwv75"
      },
      "outputs": [],
      "source": [
        "import numpy as np\n",
        "\n",
        "data=np.array(data)/255.0\n",
        "data=np.reshape(data,(data.shape[0],img_size,img_size,1))\n",
        "target=np.array(target)\n",
        "\n",
        "from keras.utils import np_utils\n",
        "\n",
        "new_target=np_utils.to_categorical(target)"
      ]
    },
    {
      "cell_type": "code",
      "execution_count": null,
      "metadata": {
        "id": "H5pAShkywv77"
      },
      "outputs": [],
      "source": [
        "np.save('data',data)\n",
        "np.save('target',new_target)"
      ]
    },
    {
      "cell_type": "code",
      "source": [
        "import numpy as np\n",
        "\n",
        "data=np.load('data.npy')\n",
        "target=np.load('target.npy')\n",
        "\n",
        "#loading the save numpy arrays in the previous code"
      ],
      "metadata": {
        "id": "RGrvtjq7yRTn"
      },
      "execution_count": null,
      "outputs": []
    },
    {
      "cell_type": "code",
      "source": [
        "from keras.models import Sequential\n",
        "from keras.layers import Dense,Activation,Flatten,Dropout\n",
        "from keras.layers import Conv2D,MaxPooling2D\n",
        "from keras.callbacks import ModelCheckpoint\n",
        "\n",
        "model=Sequential()\n",
        "\n",
        "model.add(Conv2D(200,(3,3),input_shape=data.shape[1:]))\n",
        "model.add(Activation('relu'))\n",
        "model.add(MaxPooling2D(pool_size=(2,2)))\n",
        "#The first CNN layer followed by Relu and MaxPooling layers\n",
        "\n",
        "model.add(Conv2D(100,(3,3)))\n",
        "model.add(Activation('relu'))\n",
        "model.add(MaxPooling2D(pool_size=(2,2)))\n",
        "#The second convolution layer followed by Relu and MaxPooling layers\n",
        "\n",
        "model.add(Flatten())\n",
        "model.add(Dropout(0.5))\n",
        "#Flatten layer to stack the output convolutions from second convolution layer\n",
        "model.add(Dense(50,activation='relu'))\n",
        "#Dense layer of 64 neurons\n",
        "model.add(Dense(2,activation='softmax'))\n",
        "#The Final layer with two outputs for two categories\n",
        "\n",
        "model.compile(loss='categorical_crossentropy',optimizer='adam',metrics=['accuracy'])"
      ],
      "metadata": {
        "id": "LKmOPBhlybkO"
      },
      "execution_count": null,
      "outputs": []
    },
    {
      "cell_type": "code",
      "source": [
        "from sklearn.model_selection import train_test_split\n",
        "\n",
        "train_data,test_data,train_target,test_target=train_test_split(data,target,test_size=0.1)"
      ],
      "metadata": {
        "id": "0-0NjxndyfEm"
      },
      "execution_count": null,
      "outputs": []
    },
    {
      "cell_type": "code",
      "source": [
        "checkpoint = ModelCheckpoint('model-{epoch:03d}.model',monitor='val_loss',verbose=0,save_best_only=True,mode='auto')\n",
        "history=model.fit(train_data,train_target,epochs=20,callbacks=[checkpoint],validation_split=0.2)"
      ],
      "metadata": {
        "colab": {
          "base_uri": "https://localhost:8080/"
        },
        "id": "2UuM6PK-yhdH",
        "outputId": "06254fd7-14bf-42f9-c4c8-1cd15c694cf1"
      },
      "execution_count": null,
      "outputs": [
        {
          "output_type": "stream",
          "name": "stdout",
          "text": [
            "Epoch 1/20\n",
            "31/31 [==============================] - ETA: 0s - loss: 0.7127 - accuracy: 0.5414INFO:tensorflow:Assets written to: model-001.model/assets\n",
            "31/31 [==============================] - 95s 3s/step - loss: 0.7127 - accuracy: 0.5414 - val_loss: 0.6053 - val_accuracy: 0.6653\n",
            "Epoch 2/20\n",
            "31/31 [==============================] - ETA: 0s - loss: 0.5225 - accuracy: 0.7384INFO:tensorflow:Assets written to: model-002.model/assets\n",
            "31/31 [==============================] - 83s 3s/step - loss: 0.5225 - accuracy: 0.7384 - val_loss: 0.4280 - val_accuracy: 0.8387\n",
            "Epoch 3/20\n",
            "31/31 [==============================] - ETA: 0s - loss: 0.3374 - accuracy: 0.8535INFO:tensorflow:Assets written to: model-003.model/assets\n",
            "31/31 [==============================] - 80s 3s/step - loss: 0.3374 - accuracy: 0.8535 - val_loss: 0.3311 - val_accuracy: 0.8589\n",
            "Epoch 4/20\n",
            "31/31 [==============================] - ETA: 0s - loss: 0.2399 - accuracy: 0.9172INFO:tensorflow:Assets written to: model-004.model/assets\n",
            "31/31 [==============================] - 78s 3s/step - loss: 0.2399 - accuracy: 0.9172 - val_loss: 0.2901 - val_accuracy: 0.8710\n",
            "Epoch 5/20\n",
            "31/31 [==============================] - ETA: 0s - loss: 0.1513 - accuracy: 0.9414INFO:tensorflow:Assets written to: model-005.model/assets\n",
            "31/31 [==============================] - 79s 3s/step - loss: 0.1513 - accuracy: 0.9414 - val_loss: 0.2739 - val_accuracy: 0.9194\n",
            "Epoch 6/20\n",
            "31/31 [==============================] - 77s 2s/step - loss: 0.1714 - accuracy: 0.9313 - val_loss: 0.3369 - val_accuracy: 0.8589\n",
            "Epoch 7/20\n",
            "31/31 [==============================] - ETA: 0s - loss: 0.1118 - accuracy: 0.9576INFO:tensorflow:Assets written to: model-007.model/assets\n",
            "31/31 [==============================] - 81s 3s/step - loss: 0.1118 - accuracy: 0.9576 - val_loss: 0.2421 - val_accuracy: 0.9113\n",
            "Epoch 8/20\n",
            "31/31 [==============================] - ETA: 0s - loss: 0.0866 - accuracy: 0.9768INFO:tensorflow:Assets written to: model-008.model/assets\n",
            "31/31 [==============================] - 78s 3s/step - loss: 0.0866 - accuracy: 0.9768 - val_loss: 0.2350 - val_accuracy: 0.9355\n",
            "Epoch 9/20\n",
            "31/31 [==============================] - ETA: 0s - loss: 0.0724 - accuracy: 0.9707INFO:tensorflow:Assets written to: model-009.model/assets\n",
            "31/31 [==============================] - 78s 3s/step - loss: 0.0724 - accuracy: 0.9707 - val_loss: 0.1762 - val_accuracy: 0.9274\n",
            "Epoch 10/20\n",
            "31/31 [==============================] - 76s 2s/step - loss: 0.0526 - accuracy: 0.9828 - val_loss: 0.2268 - val_accuracy: 0.9234\n",
            "Epoch 11/20\n",
            "31/31 [==============================] - 77s 2s/step - loss: 0.0639 - accuracy: 0.9778 - val_loss: 0.3624 - val_accuracy: 0.9153\n",
            "Epoch 12/20\n",
            "31/31 [==============================] - 79s 3s/step - loss: 0.0376 - accuracy: 0.9909 - val_loss: 0.2044 - val_accuracy: 0.9516\n",
            "Epoch 13/20\n",
            "31/31 [==============================] - 76s 2s/step - loss: 0.0262 - accuracy: 0.9909 - val_loss: 0.3060 - val_accuracy: 0.9355\n",
            "Epoch 14/20\n",
            "31/31 [==============================] - 77s 2s/step - loss: 0.0328 - accuracy: 0.9939 - val_loss: 0.2671 - val_accuracy: 0.9435\n",
            "Epoch 15/20\n",
            "31/31 [==============================] - 76s 2s/step - loss: 0.0317 - accuracy: 0.9899 - val_loss: 0.2669 - val_accuracy: 0.9315\n",
            "Epoch 16/20\n",
            "31/31 [==============================] - 77s 3s/step - loss: 0.0277 - accuracy: 0.9879 - val_loss: 0.3081 - val_accuracy: 0.9476\n",
            "Epoch 17/20\n",
            "31/31 [==============================] - 76s 2s/step - loss: 0.0194 - accuracy: 0.9909 - val_loss: 0.2776 - val_accuracy: 0.9435\n",
            "Epoch 18/20\n",
            "31/31 [==============================] - 79s 3s/step - loss: 0.0068 - accuracy: 0.9980 - val_loss: 0.2397 - val_accuracy: 0.9476\n",
            "Epoch 19/20\n",
            "31/31 [==============================] - 77s 2s/step - loss: 0.0194 - accuracy: 0.9909 - val_loss: 0.3987 - val_accuracy: 0.9476\n",
            "Epoch 20/20\n",
            "31/31 [==============================] - 77s 3s/step - loss: 0.0607 - accuracy: 0.9778 - val_loss: 0.3415 - val_accuracy: 0.9395\n"
          ]
        }
      ]
    },
    {
      "cell_type": "code",
      "source": [
        "from matplotlib import pyplot as plt\n",
        "\n",
        "plt.plot(history.history['loss'],'r',label='training loss')\n",
        "plt.plot(history.history['val_loss'],label='validation loss')\n",
        "plt.xlabel('# epochs')\n",
        "plt.ylabel('loss')\n",
        "plt.legend()\n",
        "plt.show()"
      ],
      "metadata": {
        "colab": {
          "base_uri": "https://localhost:8080/",
          "height": 279
        },
        "id": "M3Rs8jz5ylXX",
        "outputId": "2418013a-1225-4c54-a371-2641d8a32177"
      },
      "execution_count": null,
      "outputs": [
        {
          "output_type": "display_data",
          "data": {
            "text/plain": [
              "<Figure size 432x288 with 1 Axes>"
            ],
            "image/png": "[encoded data removed]"
          },
          "metadata": {
            "needs_background": "light"
          }
        }
      ]
    },
    {
      "cell_type": "code",
      "source": [
        "plt.plot(history.history['accuracy'],'r',label='training accuracy')\n",
        "plt.plot(history.history['val_accuracy'],label='validation accuracy')\n",
        "plt.xlabel('# epochs')\n",
        "plt.ylabel('loss')\n",
        "plt.legend()\n",
        "plt.show()"
      ],
      "metadata": {
        "colab": {
          "base_uri": "https://localhost:8080/",
          "height": 279
        },
        "id": "L_ybjppNyz-K",
        "outputId": "e621f6d3-fdd5-4b1e-f3f2-9b07ca26a5d9"
      },
      "execution_count": null,
      "outputs": [
        {
          "output_type": "display_data",
          "data": {
            "text/plain": [
              "<Figure size 432x288 with 1 Axes>"
            ],
            "image/png": "[encoded data removed]"
          },
          "metadata": {
            "needs_background": "light"
          }
        }
      ]
    },
    {
      "cell_type": "code",
      "source": [
        "print(model.evaluate(test_data,test_target))"
      ],
      "metadata": {
        "colab": {
          "base_uri": "https://localhost:8080/"
        },
        "id": "h8XHiNS-y2AP",
        "outputId": "33b0e3e3-b995-44b7-e417-fa77a3e8cece"
      },
      "execution_count": null,
      "outputs": [
        {
          "output_type": "stream",
          "name": "stdout",
          "text": [
            "5/5 [==============================] - 3s 508ms/step - loss: 0.2051 - accuracy: 0.9493\n",
            "[0.20507052540779114, 0.9492753744125366]\n"
          ]
        }
      ]
    },
    {
      "cell_type": "code",
      "source": [
        "from keras.models import load_model\n",
        "import cv2\n",
        "import numpy as np"
      ],
      "metadata": {
        "id": "mektvdh5y9SE"
      },
      "execution_count": null,
      "outputs": []
    },
    {
      "cell_type": "code",
      "source": [
        "model = load_model('model-017.model')\n",
        "\n",
        "face_clsfr=cv2.CascadeClassifier('haarcascade_frontalface_default.xml')\n",
        "\n",
        "source=cv2.VideoCapture(2)\n",
        "\n",
        "labels_dict={0:'MASK',1:'NO MASK'}\n",
        "color_dict={0:(0,255,0),1:(0,0,255)}"
      ],
      "metadata": {
        "id": "clZ-OF_HzCDG"
      },
      "execution_count": null,
      "outputs": []
    },
    {
      "cell_type": "markdown",
      "source": [
        "RUN THE BELOW CODE IN LOCAL TERMINAL"
      ],
      "metadata": {
        "id": "lhgz9FflpCke"
      }
    },
    {
      "cell_type": "code",
      "source": [
        "while(True):\n",
        "\n",
        "    ret,img=source.read()\n",
        "    print(img)\n",
        "    gray=cv2.cvtColor(img,cv2.COLOR_BGR2GRAY)\n",
        "    faces=face_clsfr.detectMultiScale(gray,1.3,5)  \n",
        "\n",
        "    for (x,y,w,h) in faces:\n",
        "    \n",
        "        face_img=gray[y:y+w,x:x+w]\n",
        "        resized=cv2.resize(face_img,(100,100))\n",
        "        normalized=resized/255.0\n",
        "        reshaped=np.reshape(normalized,(1,100,100,1))\n",
        "        result=model.predict(reshaped)\n",
        "\n",
        "        label=np.argmax(result,axis=1)[0]\n",
        "      \n",
        "        cv2.rectangle(img,(x,y),(x+w,y+h),color_dict[label],2)\n",
        "        cv2.rectangle(img,(x,y-40),(x+w,y),color_dict[label],-1)\n",
        "        cv2.putText(img, labels_dict[label], (x, y-10),cv2.FONT_HERSHEY_SIMPLEX,0.8,(255,255,255),2)\n",
        "        \n",
        "        \n",
        "    cv2.imshow('LIVE',img)\n",
        "    key=cv2.waitKey(1)\n",
        "    \n",
        "    if(key==27):\n",
        "        break\n",
        "        \n",
        "cv2.destroyAllWindows()\n",
        "source.release()"
      ],
      "metadata": {
        "id": "K8YK9FmtzFtD"
      },
      "execution_count": null,
      "outputs": []
    }
  ],
  "metadata": {
    "kernelspec": {
      "display_name": "Python 3",
      "language": "python",
      "name": "python3"
    },
    "language_info": {
      "codemirror_mode": {
        "name": "ipython",
        "version": 3
      },
      "file_extension": ".py",
      "mimetype": "text/x-python",
      "name": "python",
      "nbconvert_exporter": "python",
      "pygments_lexer": "ipython3",
      "version": "3.7.4"
    },
    "colab": {
      "name": "4.0 Complete Compiled Code.ipynb",
      "provenance": [],
      "include_colab_link": true
    }
  },
  "nbformat": 4,
  "nbformat_minor": 0
}